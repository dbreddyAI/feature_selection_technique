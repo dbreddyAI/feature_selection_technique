{
 "cells": [
  {
   "cell_type": "code",
   "execution_count": 1,
   "metadata": {},
   "outputs": [],
   "source": [
    "import pandas as pd\n",
    "import numpy as np"
   ]
  },
  {
   "cell_type": "code",
   "execution_count": 4,
   "metadata": {},
   "outputs": [],
   "source": [
    "data = pd.read_excel(\"C:/Users/kxj133/Downloads/task_2/Car_data.xlsx\",dtype= str)"
   ]
  },
  {
   "cell_type": "code",
   "execution_count": 80,
   "metadata": {},
   "outputs": [],
   "source": [
    "def chi_square_test(X,Y):\n",
    "    \n",
    "    from functools import reduce\n",
    "    import pandas as pd\n",
    "    import numpy as np\n",
    "    \n",
    "    contingency_table = pd.DataFrame(pd.crosstab(X,Y,margins = True))\n",
    "    \n",
    "    row_num = X.nunique()\n",
    "    \n",
    "    col_num = Y.nunique()\n",
    "\n",
    "    f_obs = reduce(np.append,[contingency_table.iloc[i][j] for i in range(row_num) for j in range(col_num)])\n",
    "    \n",
    "    row_sums = contingency_table.iloc[0:row_num,col_num].values\n",
    "    \n",
    "    col_sums = contingency_table.iloc[row_num,0:col_num].values\n",
    "    \n",
    "    total = contingency_table.loc['All', 'All']\n",
    "    \n",
    "    f_expected = []\n",
    "\n",
    "    for j in range(row_num):\n",
    "        \n",
    "        for i in col_sums:\n",
    "            \n",
    "            f_expected.append(i*row_sums[j]/total)\n",
    "    \n",
    "    chi_squared_statistic = ((f_obs - f_expected)**2/f_expected).sum()\n",
    "    \n",
    "    dof = (len(row_sums)-1)*(len(col_sums)-1)\n",
    "    \n",
    "    return chi_squared_statistic,dof"
   ]
  },
  {
   "cell_type": "code",
   "execution_count": 83,
   "metadata": {},
   "outputs": [],
   "source": [
    "chi_square_test_df = pd.DataFrame(index = data.columns.difference(['acceptability']),\n",
    "                                  columns = ['chi_sqaure_value','degree_of_freedom'])\n",
    "\n",
    "for column in data.columns.difference(['acceptability']):\n",
    "    \n",
    "    chi_value,dof = chi_square_test(data[column],data['acceptability'])\n",
    "    \n",
    "    chi_square_test_df.loc[column,'chi_sqaure_value'] = chi_value\n",
    "    \n",
    "    chi_square_test_df.loc[column,'degree_of_freedom'] = dof\n",
    "    "
   ]
  },
  {
   "cell_type": "code",
   "execution_count": 84,
   "metadata": {},
   "outputs": [
    {
     "data": {
      "text/html": [
       "<div>\n",
       "<style scoped>\n",
       "    .dataframe tbody tr th:only-of-type {\n",
       "        vertical-align: middle;\n",
       "    }\n",
       "\n",
       "    .dataframe tbody tr th {\n",
       "        vertical-align: top;\n",
       "    }\n",
       "\n",
       "    .dataframe thead th {\n",
       "        text-align: right;\n",
       "    }\n",
       "</style>\n",
       "<table border=\"1\" class=\"dataframe\">\n",
       "  <thead>\n",
       "    <tr style=\"text-align: right;\">\n",
       "      <th></th>\n",
       "      <th>chi_sqaure_value</th>\n",
       "      <th>degree_of_freedom</th>\n",
       "    </tr>\n",
       "  </thead>\n",
       "  <tbody>\n",
       "    <tr>\n",
       "      <th>buying</th>\n",
       "      <td>189.243</td>\n",
       "      <td>9</td>\n",
       "    </tr>\n",
       "    <tr>\n",
       "      <th>doors</th>\n",
       "      <td>10.3848</td>\n",
       "      <td>9</td>\n",
       "    </tr>\n",
       "    <tr>\n",
       "      <th>lug_bot</th>\n",
       "      <td>53.282</td>\n",
       "      <td>6</td>\n",
       "    </tr>\n",
       "    <tr>\n",
       "      <th>mainta</th>\n",
       "      <td>142.941</td>\n",
       "      <td>9</td>\n",
       "    </tr>\n",
       "    <tr>\n",
       "      <th>persons</th>\n",
       "      <td>371.337</td>\n",
       "      <td>6</td>\n",
       "    </tr>\n",
       "    <tr>\n",
       "      <th>safety</th>\n",
       "      <td>479.322</td>\n",
       "      <td>6</td>\n",
       "    </tr>\n",
       "  </tbody>\n",
       "</table>\n",
       "</div>"
      ],
      "text/plain": [
       "        chi_sqaure_value degree_of_freedom\n",
       "buying           189.243                 9\n",
       "doors            10.3848                 9\n",
       "lug_bot           53.282                 6\n",
       "mainta           142.941                 9\n",
       "persons          371.337                 6\n",
       "safety           479.322                 6"
      ]
     },
     "execution_count": 84,
     "metadata": {},
     "output_type": "execute_result"
    }
   ],
   "source": [
    "chi_square_test_df\n"
   ]
  }
 ],
 "metadata": {
  "kernelspec": {
   "display_name": "Python 3",
   "language": "python",
   "name": "python3"
  },
  "language_info": {
   "codemirror_mode": {
    "name": "ipython",
    "version": 3
   },
   "file_extension": ".py",
   "mimetype": "text/x-python",
   "name": "python",
   "nbconvert_exporter": "python",
   "pygments_lexer": "ipython3",
   "version": "3.7.0"
  }
 },
 "nbformat": 4,
 "nbformat_minor": 2
}
